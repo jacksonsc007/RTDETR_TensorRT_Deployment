{
 "cells": [
  {
   "cell_type": "code",
   "execution_count": 1,
   "id": "c3dbc4f6",
   "metadata": {},
   "outputs": [],
   "source": [
    "import modelopt.torch.quantization as mtq\n"
   ]
  },
  {
   "cell_type": "code",
   "execution_count": 2,
   "id": "df88321e",
   "metadata": {},
   "outputs": [
    {
     "data": {
      "text/plain": [
       "{'quant_cfg': {'*weight_quantizer': {'num_bits': 8, 'axis': 0},\n",
       "  '*input_quantizer': {'num_bits': 8, 'axis': None},\n",
       "  'nn.BatchNorm1d': {'*': {'enable': False}},\n",
       "  'nn.BatchNorm2d': {'*': {'enable': False}},\n",
       "  'nn.BatchNorm3d': {'*': {'enable': False}},\n",
       "  'nn.LeakyReLU': {'*': {'enable': False}},\n",
       "  '*lm_head*': {'enable': False},\n",
       "  '*proj_out.*': {'enable': False},\n",
       "  '*block_sparse_moe.gate*': {'enable': False},\n",
       "  '*router*': {'enable': False},\n",
       "  '*mlp.gate.*': {'enable': False},\n",
       "  '*mlp.shared_expert_gate.*': {'enable': False},\n",
       "  '*output_layer*': {'enable': False},\n",
       "  'output.*': {'enable': False},\n",
       "  'default': {'enable': False}},\n",
       " 'algorithm': 'max'}"
      ]
     },
     "execution_count": 2,
     "metadata": {},
     "output_type": "execute_result"
    }
   ],
   "source": [
    "quant_cfg = mtq.INT8_DEFAULT_CFG\n",
    "quant_cfg"
   ]
  },
  {
   "cell_type": "code",
   "execution_count": 3,
   "id": "bdc497cc",
   "metadata": {},
   "outputs": [
    {
     "data": {
      "text/plain": [
       "{'quant_cfg': {'*weight_quantizer': {'num_bits': 4,\n",
       "   'block_sizes': {-1: 128, 'type': 'static'},\n",
       "   'enable': True},\n",
       "  '*input_quantizer': {'enable': False},\n",
       "  'nn.BatchNorm1d': {'*': {'enable': False}},\n",
       "  'nn.BatchNorm2d': {'*': {'enable': False}},\n",
       "  'nn.BatchNorm3d': {'*': {'enable': False}},\n",
       "  'nn.LeakyReLU': {'*': {'enable': False}},\n",
       "  '*lm_head*': {'enable': False},\n",
       "  '*proj_out.*': {'enable': False},\n",
       "  '*block_sparse_moe.gate*': {'enable': False},\n",
       "  '*router*': {'enable': False},\n",
       "  '*mlp.gate.*': {'enable': False},\n",
       "  '*mlp.shared_expert_gate.*': {'enable': False},\n",
       "  '*output_layer*': {'enable': False},\n",
       "  'output.*': {'enable': False},\n",
       "  'default': {'enable': False}},\n",
       " 'algorithm': {'method': 'awq_lite', 'alpha_step': 0.1}}"
      ]
     },
     "execution_count": 3,
     "metadata": {},
     "output_type": "execute_result"
    }
   ],
   "source": [
    "awq_cfg = mtq.INT4_AWQ_CFG\n",
    "awq_cfg"
   ]
  },
  {
   "cell_type": "code",
   "execution_count": 4,
   "id": "194044b6",
   "metadata": {},
   "outputs": [
    {
     "data": {
      "text/plain": [
       "{'quant_cfg': {'*weight_quantizer': {'num_bits': (4, 3), 'axis': None},\n",
       "  '*input_quantizer': {'num_bits': (4, 3), 'axis': None},\n",
       "  'nn.BatchNorm1d': {'*': {'enable': False}},\n",
       "  'nn.BatchNorm2d': {'*': {'enable': False}},\n",
       "  'nn.BatchNorm3d': {'*': {'enable': False}},\n",
       "  'nn.LeakyReLU': {'*': {'enable': False}},\n",
       "  '*lm_head*': {'enable': False},\n",
       "  '*proj_out.*': {'enable': False},\n",
       "  '*block_sparse_moe.gate*': {'enable': False},\n",
       "  '*router*': {'enable': False},\n",
       "  '*mlp.gate.*': {'enable': False},\n",
       "  '*mlp.shared_expert_gate.*': {'enable': False},\n",
       "  '*output_layer*': {'enable': False},\n",
       "  'output.*': {'enable': False},\n",
       "  'default': {'enable': False}},\n",
       " 'algorithm': 'max'}"
      ]
     },
     "execution_count": 4,
     "metadata": {},
     "output_type": "execute_result"
    }
   ],
   "source": [
    "mtq.FP8_DEFAULT_CFG"
   ]
  },
  {
   "cell_type": "code",
   "execution_count": null,
   "id": "22ade55e",
   "metadata": {},
   "outputs": [],
   "source": []
  },
  {
   "cell_type": "code",
   "execution_count": null,
   "id": "c4139aa8",
   "metadata": {},
   "outputs": [],
   "source": []
  }
 ],
 "metadata": {
  "kernelspec": {
   "display_name": "rtdetr",
   "language": "python",
   "name": "python3"
  },
  "language_info": {
   "codemirror_mode": {
    "name": "ipython",
    "version": 3
   },
   "file_extension": ".py",
   "mimetype": "text/x-python",
   "name": "python",
   "nbconvert_exporter": "python",
   "pygments_lexer": "ipython3",
   "version": "3.10.15"
  }
 },
 "nbformat": 4,
 "nbformat_minor": 5
}
