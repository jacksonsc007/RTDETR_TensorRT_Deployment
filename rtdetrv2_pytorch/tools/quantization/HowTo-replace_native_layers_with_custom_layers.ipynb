{
 "cells": [
  {
   "cell_type": "markdown",
   "metadata": {},
   "source": [
    "# How to replace pre-trained model layers with custom ones?\n",
    "\n",
    "Replace pytorch built-in layers with custom ones may seem trivial at first glance. However, it turns out that we need to treat this seriously to avoid potential pitfalls.\n",
    "\n",
    "The take-homes are we should use `set_submodule` method, and use `get_submodule` before we do the replacement to make sure we get things go as expected.\n",
    "\n",
    "In this tutorial, we showcase the right way to replace pre-trained model layers with quatified ones, a quite common scenario when using INT8 quantization to deploy models."
   ]
  },
  {
   "cell_type": "markdown",
   "metadata": {},
   "source": [
    "## Naive and simple case"
   ]
  },
  {
   "cell_type": "code",
   "execution_count": 1,
   "metadata": {},
   "outputs": [],
   "source": [
    "import torch\n",
    "from torch import nn\n",
    "\n",
    "from pytorch_quantization import tensor_quant\n",
    "import pytorch_quantization.nn as quant_nn\n",
    "\n",
    "in_features = 100\n",
    "out_features = 200\n",
    "in_channels = 3\n",
    "out_channels = 4\n",
    "kernel_size = 3\n",
    "\n",
    "class Model(nn.Module):\n",
    "    def __init__(self):\n",
    "        super(Model, self).__init__()\n",
    "        self.fc1 = nn.Linear(in_features, out_features, bias=True)\n",
    "        self.fc2 = nn.Linear(out_features, in_features, bias=True)\n",
    "\n",
    "    def forward(self, x):\n",
    "        x = self.fc1(x)\n",
    "        x = self.fc2(x)\n",
    "        return x\n",
    "\n",
    "\n",
    "model_original = Model()\n",
    "input1 = torch.randn(1000, in_features)\n",
    "output1 = model_original(input1)"
   ]
  },
  {
   "cell_type": "code",
   "execution_count": 2,
   "metadata": {},
   "outputs": [
    {
     "name": "stdout",
     "output_type": "stream",
     "text": [
      "Model(\n",
      "  (fc1): QuantLinear(\n",
      "    in_features=100, out_features=200, bias=True\n",
      "    (_input_quantizer): TensorQuantizer(8bit fake per-tensor amax=dynamic calibrator=MaxCalibrator scale=1.0 quant)\n",
      "    (_weight_quantizer): TensorQuantizer(8bit fake axis=0 amax=dynamic calibrator=MaxCalibrator scale=1.0 quant)\n",
      "  )\n",
      "  (fc2): QuantLinear(\n",
      "    in_features=200, out_features=100, bias=True\n",
      "    (_input_quantizer): TensorQuantizer(8bit fake per-tensor amax=dynamic calibrator=MaxCalibrator scale=1.0 quant)\n",
      "    (_weight_quantizer): TensorQuantizer(8bit fake axis=0 amax=dynamic calibrator=MaxCalibrator scale=1.0 quant)\n",
      "  )\n",
      ")\n",
      "False tensor(0.0054, grad_fn=<MeanBackward0>)\n"
     ]
    }
   ],
   "source": [
    "for n, m in model_original.named_modules():\n",
    "    if isinstance(m, nn.Linear):\n",
    "        # print(getattr(model_original, n)\n",
    "        quant_linear = quant_nn.Linear(\n",
    "            m.in_features, m.out_features, bias=m.bias is not None,\n",
    "            quant_desc_input=tensor_quant.QUANT_DESC_8BIT_PER_TENSOR,\n",
    "            quant_desc_weight=tensor_quant.QUANT_DESC_8BIT_LINEAR_WEIGHT_PER_ROW\n",
    "        )\n",
    "        setattr(quant_nn, \"weight\", m.weight)\n",
    "        setattr(quant_nn, \"bias\", m.bias)\n",
    "        setattr(model_original, n, quant_linear)\n",
    "print(model_original)\n",
    "output2 = model_original(input1)\n",
    "print(torch.allclose(output1, output2), (output1 - output2).mean())"
   ]
  },
  {
   "cell_type": "code",
   "execution_count": null,
   "metadata": {},
   "outputs": [
    {
     "name": "stdout",
     "output_type": "stream",
     "text": [
      "Model(\n",
      "  (fc1): QuantLinear(\n",
      "    in_features=100, out_features=200, bias=True\n",
      "    (_input_quantizer): TensorQuantizer(8bit fake per-tensor amax=dynamic calibrator=MaxCalibrator scale=1.0 quant)\n",
      "    (_weight_quantizer): TensorQuantizer(8bit fake axis=0 amax=dynamic calibrator=MaxCalibrator scale=1.0 quant)\n",
      "  )\n",
      "  (fc2): QuantLinear(\n",
      "    in_features=200, out_features=100, bias=True\n",
      "    (_input_quantizer): TensorQuantizer(8bit fake per-tensor amax=dynamic calibrator=MaxCalibrator scale=1.0 quant)\n",
      "    (_weight_quantizer): TensorQuantizer(8bit fake axis=0 amax=dynamic calibrator=MaxCalibrator scale=1.0 quant)\n",
      "  )\n",
      "  (fake): Linear(in_features=10, out_features=10, bias=True)\n",
      ")\n"
     ]
    },
    {
     "ename": "AttributeError",
     "evalue": "Model has no attribute `fake1`",
     "output_type": "error",
     "traceback": [
      "\u001b[0;31m---------------------------------------------------------------------------\u001b[0m",
      "\u001b[0;31mAttributeError\u001b[0m                            Traceback (most recent call last)",
      "Cell \u001b[0;32mIn[3], line 4\u001b[0m\n\u001b[1;32m      2\u001b[0m model_original\u001b[38;5;241m.\u001b[39mset_submodule(\u001b[38;5;124m\"\u001b[39m\u001b[38;5;124mfake\u001b[39m\u001b[38;5;124m\"\u001b[39m, nn\u001b[38;5;241m.\u001b[39mLinear(\u001b[38;5;241m10\u001b[39m,\u001b[38;5;241m10\u001b[39m))\n\u001b[1;32m      3\u001b[0m \u001b[38;5;28mprint\u001b[39m(model_original)\n\u001b[0;32m----> 4\u001b[0m \u001b[43mmodel_original\u001b[49m\u001b[38;5;241;43m.\u001b[39;49m\u001b[43mget_submodule\u001b[49m\u001b[43m(\u001b[49m\u001b[38;5;124;43m\"\u001b[39;49m\u001b[38;5;124;43mfake1\u001b[39;49m\u001b[38;5;124;43m\"\u001b[39;49m\u001b[43m)\u001b[49m\n",
      "File \u001b[0;32m~/miniconda3/envs/rtdetr/lib/python3.10/site-packages/torch/nn/modules/module.py:717\u001b[0m, in \u001b[0;36mModule.get_submodule\u001b[0;34m(self, target)\u001b[0m\n\u001b[1;32m    715\u001b[0m \u001b[38;5;28;01mfor\u001b[39;00m item \u001b[38;5;129;01min\u001b[39;00m atoms:\n\u001b[1;32m    716\u001b[0m     \u001b[38;5;28;01mif\u001b[39;00m \u001b[38;5;129;01mnot\u001b[39;00m \u001b[38;5;28mhasattr\u001b[39m(mod, item):\n\u001b[0;32m--> 717\u001b[0m         \u001b[38;5;28;01mraise\u001b[39;00m \u001b[38;5;167;01mAttributeError\u001b[39;00m(\n\u001b[1;32m    718\u001b[0m             mod\u001b[38;5;241m.\u001b[39m_get_name() \u001b[38;5;241m+\u001b[39m \u001b[38;5;124m\"\u001b[39m\u001b[38;5;124m has no \u001b[39m\u001b[38;5;124m\"\u001b[39m \u001b[38;5;124m\"\u001b[39m\u001b[38;5;124mattribute `\u001b[39m\u001b[38;5;124m\"\u001b[39m \u001b[38;5;241m+\u001b[39m item \u001b[38;5;241m+\u001b[39m \u001b[38;5;124m\"\u001b[39m\u001b[38;5;124m`\u001b[39m\u001b[38;5;124m\"\u001b[39m\n\u001b[1;32m    719\u001b[0m         )\n\u001b[1;32m    721\u001b[0m     mod \u001b[38;5;241m=\u001b[39m \u001b[38;5;28mgetattr\u001b[39m(mod, item)\n\u001b[1;32m    723\u001b[0m     \u001b[38;5;28;01mif\u001b[39;00m \u001b[38;5;129;01mnot\u001b[39;00m \u001b[38;5;28misinstance\u001b[39m(mod, torch\u001b[38;5;241m.\u001b[39mnn\u001b[38;5;241m.\u001b[39mModule):\n",
      "\u001b[0;31mAttributeError\u001b[0m: Model has no attribute `fake1`"
     ]
    }
   ],
   "source": [
    "# error is not thrown, not complied with official doc.\n",
    "model_original.set_submodule(\"fake\", nn.Linear(10,10))\n",
    "print(model_original)\n",
    "model_original.get_submodule(\"fake1\")"
   ]
  },
  {
   "cell_type": "markdown",
   "metadata": {},
   "source": [
    "## more complex network\n",
    "The above method using setattr does not work for more complex network."
   ]
  },
  {
   "cell_type": "code",
   "execution_count": null,
   "metadata": {},
   "outputs": [],
   "source": [
    "class ComplexModel(nn.Module):\n",
    "    def __init__(self):\n",
    "        super(ComplexModel, self).__init__()\n",
    "        self.backbone = Model()\n",
    "        self.classifier = nn.Linear(20, 20)\n"
   ]
  },
  {
   "cell_type": "code",
   "execution_count": 5,
   "metadata": {},
   "outputs": [
    {
     "name": "stdout",
     "output_type": "stream",
     "text": [
      "ComplexModel(\n",
      "  (backbone): Model(\n",
      "    (fc1): Linear(in_features=100, out_features=200, bias=True)\n",
      "    (fc2): Linear(in_features=200, out_features=100, bias=True)\n",
      "  )\n",
      "  (classifier): Linear(in_features=20, out_features=20, bias=True)\n",
      ")\n",
      "----------------------------------------------------------------------------------------------------\n",
      "ComplexModel(\n",
      "  (backbone): Model(\n",
      "    (fc1): Linear(in_features=100, out_features=200, bias=True)\n",
      "    (fc2): Linear(in_features=200, out_features=100, bias=True)\n",
      "  )\n",
      "  (classifier): Linear(in_features=20, out_features=20, bias=True)\n",
      ")\n",
      "----------------------------------------------------------------------------------------------------\n",
      "ComplexModel(\n",
      "  (backbone): Model(\n",
      "    (fc1): Linear(in_features=100, out_features=200, bias=True)\n",
      "    (fc2): Linear(in_features=200, out_features=100, bias=True)\n",
      "  )\n",
      "  (classifier): QuantLinear(\n",
      "    in_features=20, out_features=20, bias=True\n",
      "    (_input_quantizer): TensorQuantizer(8bit fake per-tensor amax=dynamic calibrator=MaxCalibrator scale=1.0 quant)\n",
      "    (_weight_quantizer): TensorQuantizer(8bit fake axis=0 amax=dynamic calibrator=MaxCalibrator scale=1.0 quant)\n",
      "  )\n",
      "  (backbone.fc1): QuantLinear(\n",
      "    in_features=100, out_features=200, bias=True\n",
      "    (_input_quantizer): TensorQuantizer(8bit fake per-tensor amax=dynamic calibrator=MaxCalibrator scale=1.0 quant)\n",
      "    (_weight_quantizer): TensorQuantizer(8bit fake axis=0 amax=dynamic calibrator=MaxCalibrator scale=1.0 quant)\n",
      "  )\n",
      "  (backbone.fc2): QuantLinear(\n",
      "    in_features=200, out_features=100, bias=True\n",
      "    (_input_quantizer): TensorQuantizer(8bit fake per-tensor amax=dynamic calibrator=MaxCalibrator scale=1.0 quant)\n",
      "    (_weight_quantizer): TensorQuantizer(8bit fake axis=0 amax=dynamic calibrator=MaxCalibrator scale=1.0 quant)\n",
      "  )\n",
      ")\n"
     ]
    }
   ],
   "source": [
    "import copy\n",
    "model_original = ComplexModel()\n",
    "print(model_original)\n",
    "print('-'*100)\n",
    "new_model = copy.deepcopy(model_original)\n",
    "print(new_model)\n",
    "print('-'*100)\n",
    "for n, m in model_original.named_modules():\n",
    "    if isinstance(m, nn.Linear):\n",
    "        # print(getattr(model_original, n)\n",
    "        quant_linear = quant_nn.Linear(\n",
    "            m.in_features, m.out_features, bias=m.bias is not None,\n",
    "            quant_desc_input=tensor_quant.QUANT_DESC_8BIT_PER_TENSOR,\n",
    "            quant_desc_weight=tensor_quant.QUANT_DESC_8BIT_LINEAR_WEIGHT_PER_ROW\n",
    "        )\n",
    "        setattr(quant_nn, \"weight\", m.weight)\n",
    "        setattr(quant_nn, \"bias\", m.bias)\n",
    "        setattr(new_model, n, quant_linear)\n",
    "print(new_model)"
   ]
  },
  {
   "cell_type": "markdown",
   "metadata": {},
   "source": [
    "### The replacement failed by using setattr method, because the way we reference sub-module is different."
   ]
  },
  {
   "cell_type": "code",
   "execution_count": 10,
   "metadata": {},
   "outputs": [
    {
     "data": {
      "text/plain": [
       "Linear(in_features=100, out_features=200, bias=True)"
      ]
     },
     "execution_count": 10,
     "metadata": {},
     "output_type": "execute_result"
    }
   ],
   "source": [
    "\n",
    "# model_original['backbone.fc1'] # error\n",
    "# getattr(model_original, 'backbone.fc1') # error\n",
    "model_original.get_submodule('backbone.fc1') # correct"
   ]
  },
  {
   "cell_type": "markdown",
   "metadata": {},
   "source": [
    "## Let's use set_submodule "
   ]
  },
  {
   "cell_type": "code",
   "execution_count": 7,
   "metadata": {},
   "outputs": [
    {
     "name": "stdout",
     "output_type": "stream",
     "text": [
      "ComplexModel(\n",
      "  (backbone): Model(\n",
      "    (fc1): QuantLinear(\n",
      "      in_features=100, out_features=200, bias=True\n",
      "      (_input_quantizer): TensorQuantizer(8bit fake per-tensor amax=dynamic calibrator=MaxCalibrator scale=1.0 quant)\n",
      "      (_weight_quantizer): TensorQuantizer(8bit fake axis=0 amax=dynamic calibrator=MaxCalibrator scale=1.0 quant)\n",
      "    )\n",
      "    (fc2): QuantLinear(\n",
      "      in_features=200, out_features=100, bias=True\n",
      "      (_input_quantizer): TensorQuantizer(8bit fake per-tensor amax=dynamic calibrator=MaxCalibrator scale=1.0 quant)\n",
      "      (_weight_quantizer): TensorQuantizer(8bit fake axis=0 amax=dynamic calibrator=MaxCalibrator scale=1.0 quant)\n",
      "    )\n",
      "  )\n",
      "  (classifier): QuantLinear(\n",
      "    in_features=20, out_features=20, bias=True\n",
      "    (_input_quantizer): TensorQuantizer(8bit fake per-tensor amax=dynamic calibrator=MaxCalibrator scale=1.0 quant)\n",
      "    (_weight_quantizer): TensorQuantizer(8bit fake axis=0 amax=dynamic calibrator=MaxCalibrator scale=1.0 quant)\n",
      "  )\n",
      ")\n"
     ]
    }
   ],
   "source": [
    "import copy\n",
    "model_original = ComplexModel()\n",
    "# print(model_original)\n",
    "# print('-'*100)\n",
    "new_model = copy.deepcopy(model_original)\n",
    "# print(new_model)\n",
    "# print('-'*100)\n",
    "for n, m in model_original.named_modules():\n",
    "    if isinstance(m, nn.Linear):\n",
    "        # print(getattr(model_original, n)\n",
    "        quant_linear = quant_nn.Linear(\n",
    "            m.in_features, m.out_features, bias=m.bias is not None,\n",
    "            quant_desc_input=tensor_quant.QUANT_DESC_8BIT_PER_TENSOR,\n",
    "            quant_desc_weight=tensor_quant.QUANT_DESC_8BIT_LINEAR_WEIGHT_PER_ROW\n",
    "        )\n",
    "        setattr(quant_nn, \"weight\", m.weight)\n",
    "        setattr(quant_nn, \"bias\", m.bias)\n",
    "        # NOTE: Make sure the name is correct\n",
    "        _ = new_model.get_submodule(n)\n",
    "        new_model.set_submodule(n, quant_linear)\n",
    "print(new_model)"
   ]
  },
  {
   "cell_type": "code",
   "execution_count": null,
   "metadata": {},
   "outputs": [],
   "source": []
  }
 ],
 "metadata": {
  "kernelspec": {
   "display_name": "rtdetr",
   "language": "python",
   "name": "python3"
  },
  "language_info": {
   "codemirror_mode": {
    "name": "ipython",
    "version": 3
   },
   "file_extension": ".py",
   "mimetype": "text/x-python",
   "name": "python",
   "nbconvert_exporter": "python",
   "pygments_lexer": "ipython3",
   "version": "3.10.15"
  }
 },
 "nbformat": 4,
 "nbformat_minor": 2
}
